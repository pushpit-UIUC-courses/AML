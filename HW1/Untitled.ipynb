{
 "cells": [
  {
   "cell_type": "code",
   "execution_count": null,
   "metadata": {},
   "outputs": [],
   "source": [
    "%matplotlib inline\n",
    "from matplotlib import pyplot as plt\n",
    "import numpy as np\n",
    "fipixels= d.astype(np.uint8)\n",
    "rst_image = x_train[0]\n",
    "first_image = np.array(first_image, dtype='float')\n",
    "ret,thresh1 = cv.threshold(pixels,120,255,cv.THRESH_BINARY)\n",
    "img2 = cv.resize(pixels, (20, 20), interpolation = cv.INTER_AREA)\n",
    "f, axarr = plt.subplots(2,2)\n",
    "axarr[0,0].imshow(pixels, cmap=plt.cm.binary)\n",
    "axarr[0,1].imshow(img2, cmap=plt.cm.binary)\n",
    "axarr[1,0].imshow(pixels)\n",
    "axarr[1,1].imshow(img2)\n",
    "# plt.imshow(thresh1, cmap='gray')\n",
    "# plt.imshow(img2)\n",
    "plt.show()\n",
    "print(y_train[0])\n",
    "print(x_train[0])\n",
    "digits = set(y_train)\n",
    "x_train_thresholded = cv\n",
    "\n",
    "#         savefig_val = \"first_image\"\n",
    "#         mnist_fig.savefig(savefig_val+\".pdf\")\n",
    "\n",
    "# import cv2 as cv\n",
    "# import numpy as np\n",
    "# from matplotlib import pyplot as plt\n",
    "# img = x_train[0]\n",
    "# ret,thresh1 = cv.threshold(img,127,255,cv.THRESH_BINARY)\n",
    "# # ret,thresh2 = cv.threshold(img,127,255,cv.THRESH_BINARY_INV)\n",
    "# # ret,thresh3 = cv.threshold(img,127,255,cv.THRESH_TRUNC)\n",
    "# # ret,thresh4 = cv.threshold(img,127,255,cv.THRESH_TOZERO)\n",
    "# # ret,thresh5 = cv.threshold(img,127,255,cv.THRESH_TOZERO_INV)\n",
    "# titles = ['Original Image','BINARY']#,'BINARY_INV','TRUNC','TOZERO','TOZERO_INV']\n",
    "# images = [img, thresh1]#, thresh2, thresh3, thresh4, thresh5]\n",
    "# for i in range(2):\n",
    "#     plt.subplot(2,3,i+1),plt.imshow(images[i],'gray')\n",
    "#     plt.title(titles[i])\n",
    "#     plt.xticks([]),plt.yticks([])\n",
    "# plt.show()"
   ]
  }
 ],
 "metadata": {
  "kernelspec": {
   "display_name": "Python 3",
   "language": "python",
   "name": "python3"
  },
  "language_info": {
   "codemirror_mode": {
    "name": "ipython",
    "version": 3
   },
   "file_extension": ".py",
   "mimetype": "text/x-python",
   "name": "python",
   "nbconvert_exporter": "python",
   "pygments_lexer": "ipython3",
   "version": "3.6.5"
  }
 },
 "nbformat": 4,
 "nbformat_minor": 2
}
